{
 "cells": [
  {
   "cell_type": "code",
   "execution_count": 1,
   "metadata": {},
   "outputs": [],
   "source": [
    "input_file = \"employees.tsv\""
   ]
  },
  {
   "cell_type": "code",
   "execution_count": 6,
   "metadata": {},
   "outputs": [
    {
     "data": {
      "text/plain": [
       "4"
      ]
     },
     "execution_count": 6,
     "metadata": {},
     "output_type": "execute_result"
    }
   ],
   "source": [
    "with open(input_file,'r') as f:\n",
    "    lines = f.read().splitlines()\n",
    "\n",
    "len(lines)"
   ]
  },
  {
   "cell_type": "code",
   "execution_count": 25,
   "metadata": {},
   "outputs": [
    {
     "ename": "IndexError",
     "evalue": "string index out of range",
     "output_type": "error",
     "traceback": [
      "\u001b[0;31m---------------------------------------------------------------------------\u001b[0m",
      "\u001b[0;31mIndexError\u001b[0m                                Traceback (most recent call last)",
      "Cell \u001b[0;32mIn[25], line 9\u001b[0m\n\u001b[1;32m      7\u001b[0m     column \u001b[38;5;241m=\u001b[39m []\n\u001b[1;32m      8\u001b[0m     \u001b[38;5;28;01mfor\u001b[39;00m rows \u001b[38;5;129;01min\u001b[39;00m records:\n\u001b[0;32m----> 9\u001b[0m         column\u001b[38;5;241m.\u001b[39mappend(\u001b[43mrows\u001b[49m\u001b[43m[\u001b[49m\u001b[43mi\u001b[49m\u001b[43m]\u001b[49m)\n\u001b[1;32m     10\u001b[0m     column_values\u001b[38;5;241m.\u001b[39mappend(column)\n\u001b[1;32m     11\u001b[0m \u001b[38;5;28mprint\u001b[39m(column_values)\n",
      "\u001b[0;31mIndexError\u001b[0m: string index out of range"
     ]
    }
   ],
   "source": [
    "lines = open(input_file,'r').read().splitlines()\n",
    "records = lines[1:]                                 # Defining records as the list of lines but removing the first entry (column names)\n",
    "records_lenght = len(records[0])\n",
    "column_values = []\n",
    "\n",
    "for i in range(records_lenght):\n",
    "    column = []\n",
    "    for rows in records:\n",
    "        column.append(rows[i])\n",
    "    column_values.append(column)\n",
    "print(column_values)"
   ]
  },
  {
   "cell_type": "code",
   "execution_count": 3,
   "metadata": {},
   "outputs": [
    {
     "name": "stdout",
     "output_type": "stream",
     "text": [
      "2\n"
     ]
    }
   ],
   "source": [
    "file_object = open(input_file, 'r')     # Open the input file in read mode\n",
    "\n",
    "column_names = file_object.readline().strip()       # Read and strip the newline characters\n",
    "column_names_tuple = tuple(column_names.split())    # Convert it to a tuple and split \n",
    "\n",
    "line2 = file_object.readline().strip()         # Read the 2nd line and strip the newline characters         \n",
    "data_types_list = line2.split(sep=\"\\t\")              # Create a list and split\n",
    "data_types = []                                # Empty list to append the data types to\n",
    "\n",
    "for element in data_types_list:\n",
    "    if element.lower() == \"true\":               # Check for boolean in the list, removing case sensitivity\n",
    "        data_types.append(\"true\")\n",
    "    elif element.lower() == \"false\":\n",
    "        data_types.append(\"false\")\n",
    "    else:\n",
    "\n",
    "        try:                                    # Check if it's an integer\n",
    "            integer_value = int(element)\n",
    "            data_types.append(\"int\")\n",
    "        except ValueError:\n",
    "\n",
    "            try:\n",
    "                string = str(element)           # Check if it's a string\n",
    "                data_types.append(\"string\")\n",
    "            except ValueError:\n",
    "                data_types.append(\"No data type found\") # In case no data type fits\n",
    "                raise TypeError\n",
    "    \n",
    "data_types_tuple = tuple(data_types)    # Convert the list to a tuple\n",
    "test_list = []\n",
    "\n",
    "#create the records\n",
    "\n",
    "\n",
    "\n",
    "print(row_count)\n",
    "# for i in row_count:                         # Reading each file and creating a list with the name line_x\n",
    "#     line_x = file_object.readline().strip()\n",
    "#     line{i} = line_x.split(sep=\"\\t\")\n",
    "#     i += 1"
   ]
  },
  {
   "cell_type": "code",
   "execution_count": null,
   "metadata": {},
   "outputs": [],
   "source": []
  }
 ],
 "metadata": {
  "kernelspec": {
   "display_name": "Python 3",
   "language": "python",
   "name": "python3"
  },
  "language_info": {
   "codemirror_mode": {
    "name": "ipython",
    "version": 3
   },
   "file_extension": ".py",
   "mimetype": "text/x-python",
   "name": "python",
   "nbconvert_exporter": "python",
   "pygments_lexer": "ipython3",
   "version": "3.10.12"
  }
 },
 "nbformat": 4,
 "nbformat_minor": 2
}
